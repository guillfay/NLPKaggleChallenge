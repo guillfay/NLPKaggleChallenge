{
 "cells": [
  {
   "cell_type": "markdown",
   "metadata": {},
   "source": [
    "<p align=\"center\">\n",
    "  <img src=\"https://www.centralesupelec.fr/sites/all/themes/cs_theme/medias/common/images/intro/logo.png\" alt=\"Logo 2\" width=\"600\" style=\"margin-left: 20px;\"/>\n",
    "</p>\n",
    "\n",
    "# NLP Kaggle CS 2025 "
   ]
  },
  {
   "cell_type": "markdown",
   "metadata": {},
   "source": [
    "# 1. Imports"
   ]
  },
  {
   "cell_type": "code",
   "execution_count": 1,
   "metadata": {},
   "outputs": [
    {
     "name": "stderr",
     "output_type": "stream",
     "text": [
      "/Users/rayanebouaita/Documents/CentraleSupélec/ANLP/NLP-project/environnement/env_NLP/lib/python3.11/site-packages/tqdm/auto.py:21: TqdmWarning: IProgress not found. Please update jupyter and ipywidgets. See https://ipywidgets.readthedocs.io/en/stable/user_install.html\n",
      "  from .autonotebook import tqdm as notebook_tqdm\n"
     ]
    }
   ],
   "source": [
    "import pandas as pd\n",
    "import numpy as np\n",
    "import torch\n",
    "from torch.utils.data import Dataset, DataLoader\n",
    "from transformers import XLMRobertaTokenizer, XLMRobertaForSequenceClassification\n",
    "from transformers import AdamW, get_linear_schedule_with_warmup\n",
    "from sklearn.model_selection import train_test_split\n",
    "from sklearn.metrics import accuracy_score, classification_report\n",
    "from tqdm import tqdm\n",
    "import os\n",
    "import random\n",
    "from collections import Counter"
   ]
  },
  {
   "cell_type": "code",
   "execution_count": 2,
   "metadata": {},
   "outputs": [
    {
     "name": "stdout",
     "output_type": "stream",
     "text": [
      "Utilisation de: cpu\n"
     ]
    }
   ],
   "source": [
    "def set_seed(seed_value=42):\n",
    "    random.seed(seed_value)\n",
    "    np.random.seed(seed_value)\n",
    "    torch.manual_seed(seed_value)\n",
    "    torch.cuda.manual_seed_all(seed_value)\n",
    "\n",
    "set_seed(42)\n",
    "\n",
    "device = torch.device(\"cuda\" if torch.cuda.is_available() else \"cpu\")\n",
    "print(f\"Utilisation de: {device}\")"
   ]
  },
  {
   "cell_type": "markdown",
   "metadata": {},
   "source": [
    "# Data preparation"
   ]
  },
  {
   "cell_type": "code",
   "execution_count": 3,
   "metadata": {},
   "outputs": [],
   "source": [
    "class LanguageDataset(Dataset):\n",
    "    def __init__(self, texts, labels=None, tokenizer=None, max_length=128):\n",
    "        self.texts = texts\n",
    "        self.labels = labels\n",
    "        self.tokenizer = tokenizer\n",
    "        self.max_length = max_length\n",
    "\n",
    "    def __len__(self):\n",
    "        return len(self.texts)\n",
    "\n",
    "    def __getitem__(self, idx):\n",
    "        text = str(self.texts[idx])\n",
    "\n",
    "        if len(text) > 1024:\n",
    "            text = text[:1024]\n",
    "\n",
    "        encoding = self.tokenizer.encode_plus(\n",
    "            text,\n",
    "            add_special_tokens=True,\n",
    "            max_length=self.max_length,\n",
    "            return_token_type_ids=False,\n",
    "            padding='max_length',\n",
    "            truncation=True,\n",
    "            return_attention_mask=True,\n",
    "            return_tensors='pt'\n",
    "        )\n",
    "\n",
    "        outputs = {\n",
    "            'input_ids': encoding['input_ids'].flatten(),\n",
    "            'attention_mask': encoding['attention_mask'].flatten()\n",
    "        }\n",
    "\n",
    "        if self.labels is not None:\n",
    "            outputs['labels'] = torch.tensor(self.labels[idx], dtype=torch.long)\n",
    "\n",
    "        return outputs"
   ]
  },
  {
   "cell_type": "code",
   "execution_count": 4,
   "metadata": {},
   "outputs": [],
   "source": [
    "def prepare_data(train_path, test_path):\n",
    "    print(\"Chargement des données...\")\n",
    "    \n",
    "    train_df = pd.read_csv(train_path)\n",
    "    test_df = pd.read_csv(test_path)\n",
    "\n",
    "    train_df['combined_text'] = train_df['Usage'] + \" \" + train_df['Text']\n",
    "    test_df['combined_text'] = test_df['Usage'] + \" \" + test_df['Text']\n",
    "\n",
    "    labels_to_ids = {label: idx for idx, label in enumerate(train_df['Label'].unique())}\n",
    "    ids_to_labels = {idx: label for label, idx in labels_to_ids.items()}\n",
    "\n",
    "    train_df['label_id'] = train_df['Label'].map(labels_to_ids)\n",
    "\n",
    "    label_counts = Counter(train_df['label_id'])\n",
    "    single_sample_classes = [label for label, count in label_counts.items() if count == 1]\n",
    "\n",
    "    print(f\"Nombre total de classes: {len(labels_to_ids)}\")\n",
    "    print(f\"Nombre de classes avec un seul exemple: {len(single_sample_classes)}\")\n",
    "\n",
    "    if len(single_sample_classes) > 0:\n",
    "        print(\"Détection de classes avec un seul exemple. Utilisation d'une division non stratifiée.\")\n",
    "\n",
    "        #Filtre des classes avec un seul exemple\n",
    "        single_sample_indices = train_df[train_df['label_id'].isin(single_sample_classes)].index\n",
    "        multi_sample_indices = train_df[~train_df['label_id'].isin(single_sample_classes)].index\n",
    "\n",
    "        multi_sample_df = train_df.loc[multi_sample_indices]\n",
    "\n",
    "        # Diviser les données avec stratification seulement pour les classes avec plusieurs exemples\n",
    "        multi_train_idx, multi_val_idx = train_test_split(\n",
    "            multi_sample_df.index,\n",
    "            test_size=0.1,\n",
    "            random_state=42,\n",
    "            stratify=multi_sample_df['label_id']\n",
    "        )\n",
    "\n",
    "        #Ajouter les exemples uniques à l'ensemble d'entraînement\n",
    "        train_indices = list(multi_train_idx) + list(single_sample_indices)\n",
    "        val_indices = list(multi_val_idx)\n",
    "\n",
    "        train_texts = train_df.loc[train_indices, 'combined_text'].values\n",
    "        train_labels = train_df.loc[train_indices, 'label_id'].values\n",
    "        val_texts = train_df.loc[val_indices, 'combined_text'].values\n",
    "        val_labels = train_df.loc[val_indices, 'label_id'].values\n",
    "    else:\n",
    "        train_texts, val_texts, train_labels, val_labels = train_test_split(\n",
    "            train_df['combined_text'].values,\n",
    "            train_df['label_id'].values,\n",
    "            test_size=0.1,\n",
    "            random_state=42,\n",
    "            stratify=train_df['label_id']\n",
    "        )\n",
    "\n",
    "    print(f\"Nombre d'exemples d'entraînement: {len(train_texts)}\")\n",
    "    print(f\"Nombre d'exemples de validation: {len(val_texts)}\")\n",
    "    print(f\"Nombre d'exemples de test: {len(test_df)}\")\n",
    "\n",
    "    return (train_texts, val_texts, test_df['combined_text'].values, train_labels, val_labels, labels_to_ids, ids_to_labels, test_df)"
   ]
  },
  {
   "cell_type": "markdown",
   "metadata": {},
   "source": [
    "# Training"
   ]
  },
  {
   "cell_type": "code",
   "execution_count": 5,
   "metadata": {},
   "outputs": [],
   "source": [
    "def train_epoch(model, data_loader, optimizer, scheduler, device):\n",
    "    model.train()\n",
    "    total_loss = 0\n",
    "\n",
    "    progress_bar = tqdm(data_loader, desc=\"Entraînement\", leave=True)\n",
    "\n",
    "    for batch in progress_bar:\n",
    "        input_ids = batch['input_ids'].to(device)\n",
    "        attention_mask = batch['attention_mask'].to(device)\n",
    "        labels = batch['labels'].to(device)\n",
    "\n",
    "        outputs = model(\n",
    "            input_ids=input_ids,\n",
    "            attention_mask=attention_mask,\n",
    "            labels=labels\n",
    "        )\n",
    "\n",
    "        loss = outputs.loss\n",
    "        total_loss += loss.item()\n",
    "\n",
    "        loss.backward()\n",
    "        torch.nn.utils.clip_grad_norm_(model.parameters(), max_norm=1.0)\n",
    "        optimizer.step()\n",
    "        scheduler.step()\n",
    "        optimizer.zero_grad()\n",
    "\n",
    "        progress_bar.set_postfix({'loss': loss.item()})\n",
    "\n",
    "    return total_loss / len(data_loader)"
   ]
  },
  {
   "cell_type": "markdown",
   "metadata": {},
   "source": [
    "# Evaluation"
   ]
  },
  {
   "cell_type": "code",
   "execution_count": 6,
   "metadata": {},
   "outputs": [],
   "source": [
    "def evaluate(model, data_loader, device):\n",
    "    model.eval()\n",
    "    predictions = []\n",
    "    actual_labels = []\n",
    "\n",
    "    with torch.no_grad():\n",
    "        for batch in tqdm(data_loader, desc=\"Évaluation\"):\n",
    "            input_ids = batch['input_ids'].to(device)\n",
    "            attention_mask = batch['attention_mask'].to(device)\n",
    "\n",
    "            outputs = model(\n",
    "                input_ids=input_ids,\n",
    "                attention_mask=attention_mask\n",
    "            )\n",
    "\n",
    "            _, preds = torch.max(outputs.logits, dim=1)\n",
    "\n",
    "            predictions.extend(preds.cpu().tolist())\n",
    "\n",
    "            if 'labels' in batch:\n",
    "                labels = batch['labels'].to(device)\n",
    "                actual_labels.extend(labels.cpu().tolist())\n",
    "\n",
    "    if actual_labels:\n",
    "        accuracy = accuracy_score(actual_labels, predictions)\n",
    "        return accuracy, predictions\n",
    "\n",
    "    return None, predictions"
   ]
  },
  {
   "cell_type": "code",
   "execution_count": 7,
   "metadata": {},
   "outputs": [],
   "source": [
    "def generate_submission(model, test_dataloader, test_df, ids_to_labels, filename):\n",
    "    print(f\"Génération des prédictions pour le fichier {filename}...\")\n",
    "    _, test_predictions = evaluate(model, test_dataloader, device)\n",
    "    \n",
    "    test_pred_labels = [ids_to_labels[pred_id] for pred_id in test_predictions]\n",
    "    \n",
    "    submission_df = pd.DataFrame({\n",
    "        'ID': test_df.index+1,\n",
    "        'Label': test_pred_labels\n",
    "    })\n",
    "    \n",
    "    submission_df.to_csv(filename, index=False)\n",
    "    print(f\"Fichier de soumission '{filename}' créé avec succès.\")"
   ]
  },
  {
   "cell_type": "markdown",
   "metadata": {},
   "source": [
    "# Main"
   ]
  },
  {
   "cell_type": "code",
   "execution_count": 11,
   "metadata": {},
   "outputs": [],
   "source": [
    "def main():\n",
    "    TRAIN_BATCH_SIZE = 16  \n",
    "    EVAL_BATCH_SIZE = 16  \n",
    "    MAX_LENGTH = 128\n",
    "    EPOCHS = 5\n",
    "    LEARNING_RATE = 2e-5\n",
    "    WARMUP_STEPS = 0\n",
    "    MODEL_NAME = \"xlm-roberta-base\"  \n",
    "    TRAIN_PATH = \"train_submission.csv\"\n",
    "    TEST_PATH = \"test_without_labels.csv\"\n",
    "\n",
    "    train_texts, val_texts, test_texts, train_labels, val_labels, labels_to_ids, ids_to_labels, test_df = prepare_data(TRAIN_PATH, TEST_PATH)\n",
    "\n",
    "    print(f\"Chargement du tokenizer {MODEL_NAME}...\")\n",
    "    tokenizer = XLMRobertaTokenizer.from_pretrained(MODEL_NAME)\n",
    "\n",
    "    train_dataset = LanguageDataset(texts=train_texts, labels=train_labels, tokenizer=tokenizer, max_length=MAX_LENGTH)\n",
    "    val_dataset = LanguageDataset(texts=val_texts, labels=val_labels, tokenizer=tokenizer, max_length=MAX_LENGTH)\n",
    "    test_dataset = LanguageDataset(texts=test_texts, labels=None, tokenizer=tokenizer, max_length=MAX_LENGTH)\n",
    "\n",
    "\n",
    "    train_dataloader = DataLoader(train_dataset, batch_size=TRAIN_BATCH_SIZE, shuffle=True, num_workers=2)\n",
    "\n",
    "    val_dataloader = DataLoader(val_dataset, batch_size=EVAL_BATCH_SIZE, shuffle=False, num_workers=2)\n",
    "\n",
    "    test_dataloader = DataLoader(test_dataset, batch_size=EVAL_BATCH_SIZE, shuffle=False, num_workers=2)\n",
    "\n",
    "    print(f\"Chargement du modèle {MODEL_NAME}...\")\n",
    "    model = XLMRobertaForSequenceClassification.from_pretrained(\n",
    "        MODEL_NAME,\n",
    "        num_labels=len(labels_to_ids),\n",
    "        problem_type=\"single_label_classification\"\n",
    "    )\n",
    "\n",
    "    model.to(device)\n",
    "\n",
    "    #optimiseur \n",
    "    optimizer = AdamW(model.parameters(), lr=LEARNING_RATE)\n",
    "    \n",
    "    total_steps = len(train_dataloader) * EPOCHS\n",
    "    \n",
    "    #scheduler\n",
    "    scheduler = get_linear_schedule_with_warmup(optimizer, num_warmup_steps=WARMUP_STEPS, num_training_steps=total_steps)\n",
    "\n",
    "    for epoch in range(EPOCHS):\n",
    "        print(f\"\\nÉpoque {epoch + 1}/{EPOCHS}\")\n",
    "\n",
    "        avg_train_loss = train_epoch(model, train_dataloader, optimizer, scheduler, device)\n",
    "        print(f\"Perte moyenne d'entraînement: {avg_train_loss:.4f}\")\n",
    "\n",
    "        val_accuracy, _ = evaluate(model, val_dataloader, device)\n",
    "        print(f\"Précision de validation: {val_accuracy:.4f}\")\n",
    "        \n",
    "        if epoch == 3:  \n",
    "            print(f\"Précision de validation à l'époque 4: {val_accuracy:.4f}\")\n",
    "            \n",
    "            generate_submission(model, test_dataloader, test_df, ids_to_labels, \"submission_epoch4.csv\")\n",
    "\n",
    "    print(\"\\nSauvegarde du modèle final...\")\n",
    "    torch.save(model.state_dict(), \"final_model.bin\")\n",
    "    print(\"Modèle final sauvegardé avec succès!\")\n",
    "    print(f\"Précision finale de validation: {val_accuracy:.4f}\")\n",
    "\n",
    "    generate_submission(model, test_dataloader, test_df, ids_to_labels, \"submission_final.csv\")"
   ]
  },
  {
   "cell_type": "code",
   "execution_count": null,
   "metadata": {},
   "outputs": [],
   "source": [
    "main()"
   ]
  }
 ],
 "metadata": {
  "kernelspec": {
   "display_name": "env_NLP",
   "language": "python",
   "name": "python3"
  },
  "language_info": {
   "codemirror_mode": {
    "name": "ipython",
    "version": 3
   },
   "file_extension": ".py",
   "mimetype": "text/x-python",
   "name": "python",
   "nbconvert_exporter": "python",
   "pygments_lexer": "ipython3",
   "version": "3.11.11"
  }
 },
 "nbformat": 4,
 "nbformat_minor": 2
}
